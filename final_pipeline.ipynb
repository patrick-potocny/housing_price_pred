{
 "cells": [
  {
   "cell_type": "code",
   "execution_count": 1,
   "outputs": [],
   "source": [
    "import numpy as np\n",
    "import pandas as pd\n",
    "import matplotlib.pyplot as plt\n",
    "import seaborn as sns\n",
    "from sklearn.preprocessing import FunctionTransformer\n",
    "from sklearn.pipeline import Pipeline\n",
    "from sklearn.preprocessing import OneHotEncoder\n",
    "from sklearn.decomposition import PCA\n",
    "from sklearn.preprocessing import StandardScaler\n",
    "from sklearn.model_selection import train_test_split\n",
    "from sklearn.model_selection import RandomizedSearchCV\n",
    "from sklearn.ensemble import RandomForestRegressor\n",
    "from sklearn.metrics import mean_squared_error\n",
    "from geopy import distance\n"
   ],
   "metadata": {
    "collapsed": false,
    "pycharm": {
     "name": "#%%\n"
    }
   }
  },
  {
   "cell_type": "code",
   "execution_count": 2,
   "outputs": [],
   "source": [
    "def total_bedrooms_fillna(X):\n",
    "\n",
    "    op_for_nans = X[['total_bedrooms', 'ocean_proximity']].loc[\n",
    "        X['total_bedrooms'].isna()]['ocean_proximity'].value_counts()\n",
    "    op_for_nans = op_for_nans.index.to_list()\n",
    "\n",
    "    for val in op_for_nans:\n",
    "        median = X[X['ocean_proximity'] == val]['total_bedrooms'].median()\n",
    "        X.loc[X['ocean_proximity']==val,'total_bedrooms'] =  \\\n",
    "            X[X['ocean_proximity']==val]['total_bedrooms'].fillna(median)\n",
    "\n",
    "    return X"
   ],
   "metadata": {
    "collapsed": false,
    "pycharm": {
     "name": "#%%\n"
    }
   }
  },
  {
   "cell_type": "code",
   "execution_count": 3,
   "outputs": [],
   "source": [
    "outlier_cols = ['total_rooms','total_bedrooms', 'population',\n",
    "                'households', 'median_income']"
   ],
   "metadata": {
    "collapsed": false,
    "pycharm": {
     "name": "#%%\n"
    }
   }
  },
  {
   "cell_type": "code",
   "execution_count": 4,
   "outputs": [],
   "source": [
    "def iqr_removal(X):\n",
    "    def outlier_treatment(datacolumn):\n",
    "        sorted(datacolumn)\n",
    "        q1, q3 = np.percentile(datacolumn , [25,75])\n",
    "        iqr = q3 - q1\n",
    "        lower_range = q1 - (1.5 * iqr)\n",
    "        upper_range = q3 + (1.5 * iqr)\n",
    "        return lower_range,upper_range\n",
    "\n",
    "    for col in outlier_cols:\n",
    "        lower_range, upper_range = outlier_treatment(X[col])\n",
    "        outliers = X.loc[(X[col] > upper_range) | (X[col] < lower_range)]\n",
    "        outliers_indexes = outliers.index\n",
    "        X = X.drop(outliers_indexes)\n",
    "\n",
    "    return X"
   ],
   "metadata": {
    "collapsed": false,
    "pycharm": {
     "name": "#%%\n"
    }
   }
  },
  {
   "cell_type": "code",
   "execution_count": 5,
   "outputs": [],
   "source": [
    "def log_trans(X):\n",
    "    outlier_cols = ['total_rooms','total_bedrooms', 'population',\n",
    "                'households', 'median_income']\n",
    "    outlier_cols.remove('total_rooms')\n",
    "    for col in outlier_cols:\n",
    "        X[col] = np.log(X[col])\n",
    "\n",
    "    return X"
   ],
   "metadata": {
    "collapsed": false,
    "pycharm": {
     "name": "#%%\n"
    }
   }
  },
  {
   "cell_type": "code",
   "execution_count": 6,
   "outputs": [],
   "source": [
    "def feature_add(X):\n",
    "    X[\"rooms_per_household\"]=X[\"total_rooms\"]/X[\"households\"]\n",
    "    X[\"bedrooms_per_room\"]=X[\"total_bedrooms\"]/X[\"total_rooms\"]\n",
    "    X[\"population_per_household\"]=X[\"population\"]/X[\"households\"]\n",
    "\n",
    "    return X"
   ],
   "metadata": {
    "collapsed": false,
    "pycharm": {
     "name": "#%%\n"
    }
   }
  },
  {
   "cell_type": "code",
   "execution_count": 7,
   "outputs": [],
   "source": [
    "def big_city_dist(X):\n",
    "    cities_coords = pd.read_csv('cal_cities_lat_long.csv')\n",
    "\n",
    "    cities_pop = pd.read_excel('1990 to 2000 Population Changes in California Cities and Counties (XLS).xlsx')\n",
    "    cities_pop = cities_pop.drop(range(0, 12), axis=0)\n",
    "    cities_pop = cities_pop.drop(['Unnamed: 2', 'Unnamed: 3', 'Unnamed: 4'], 1)\n",
    "\n",
    "    cities_pop.columns = ['City', 'Population']\n",
    "\n",
    "    cities_pop = cities_pop.dropna()\n",
    "\n",
    "    counties_indexes = cities_pop[cities_pop['City'].str.contains(\"County\")].index\n",
    "    cities_pop = cities_pop.drop(counties_indexes)\n",
    "\n",
    "\n",
    "    cities_pop = cities_pop.sort_values('City')\n",
    "    cities_coords.columns = ['City', 'Latitude', 'Longitude']\n",
    "    cities_coords = cities_coords.sort_values('City')\n",
    "\n",
    "\n",
    "    cities_pop['City'] = cities_pop['City'].transform(lambda x: x.str.replace(' city', ''))\n",
    "    cities_pop['City'] = cities_pop['City'].transform(lambda x: x.str.replace(' town', ''))\n",
    "\n",
    "    cities_pop = cities_pop.loc[cities_pop['Population'] > 400000]\n",
    "\n",
    "    cities_coords = cities_coords.loc[cities_coords['City'].isin(cities_pop['City'])]\n",
    "\n",
    "\n",
    "    X['nearest_big_city'] = np.nan\n",
    "    X['nearest_big_city_dist'] = np.nan\n",
    "\n",
    "\n",
    "    for house_index, house_row in X.iterrows():\n",
    "        house_lat_long = (house_row['latitude'], house_row['longitude'])\n",
    "\n",
    "        closest_city = None\n",
    "        for city_index, city_row in cities_coords.iterrows():\n",
    "            city_lat_long = (round(city_row['Latitude'], 6), round(city_row['Longitude'], 6))\n",
    "            dist = distance.distance(house_lat_long, city_lat_long).kilometers\n",
    "\n",
    "            if closest_city is None:\n",
    "                closest_city = (city_row['City'], dist)\n",
    "            elif dist < closest_city[1]:\n",
    "                closest_city = (city_row['City'], dist)\n",
    "\n",
    "        X.loc[house_index, 'nearest_big_city'] = closest_city[0]\n",
    "        X.loc[house_index, 'nearest_big_city_dist'] = closest_city[1]\n",
    "\n",
    "    return X"
   ],
   "metadata": {
    "collapsed": false,
    "pycharm": {
     "name": "#%%\n"
    }
   }
  },
  {
   "cell_type": "code",
   "execution_count": 8,
   "outputs": [],
   "source": [
    "def high_corr_feat_drop(X):\n",
    "    X = X.drop(['population', 'total_bedrooms', 'total_rooms', 'households'], 1)\n",
    "\n",
    "    return X"
   ],
   "metadata": {
    "collapsed": false,
    "pycharm": {
     "name": "#%%\n"
    }
   }
  },
  {
   "cell_type": "code",
   "execution_count": 9,
   "outputs": [],
   "source": [
    "def onehot_enc(X):\n",
    "    df_cat = ['ocean_proximity', 'nearest_big_city']\n",
    "\n",
    "    ohe = OneHotEncoder()\n",
    "\n",
    "    enc_df = pd.DataFrame(ohe.fit_transform(\n",
    "        X[df_cat]).toarray())\n",
    "\n",
    "    pca = PCA(n_components=7)\n",
    "    enc_df = pca.fit_transform(enc_df)\n",
    "\n",
    "    enc_df = pd.DataFrame(enc_df)\n",
    "    print(enc_df.columns.tolist())\n",
    "    enc_df.columns = [f'pc{i}' for i in range(1, enc_df.shape[1] + 1)]\n",
    "    print('New:')\n",
    "    print(enc_df.columns.tolist())\n",
    "    enc_df = enc_df.reset_index(drop=True)\n",
    "    X = X.reset_index(drop=True)\n",
    "\n",
    "    X = pd.concat([X, enc_df], axis=1)\n",
    "\n",
    "    X = X.drop(df_cat, axis=1)\n",
    "    print('X columns:')\n",
    "    print(X.columns.tolist())\n",
    "    return X"
   ],
   "metadata": {
    "collapsed": false,
    "pycharm": {
     "name": "#%%\n"
    }
   }
  },
  {
   "cell_type": "code",
   "execution_count": 10,
   "outputs": [],
   "source": [
    "def drop_unimportant_feat(X):\n",
    "    X = X.drop(['pc2', 'pc3', 'pc5'], 1)\n",
    "\n",
    "    return X"
   ],
   "metadata": {
    "collapsed": false,
    "pycharm": {
     "name": "#%%\n"
    }
   }
  },
  {
   "cell_type": "code",
   "execution_count": 11,
   "outputs": [],
   "source": [
    "df = pd.read_csv('train_df.csv')"
   ],
   "metadata": {
    "collapsed": false,
    "pycharm": {
     "name": "#%%\n"
    }
   }
  },
  {
   "cell_type": "code",
   "execution_count": 12,
   "outputs": [
    {
     "name": "stdout",
     "output_type": "stream",
     "text": [
      "(16512, 10)\n",
      "(13808, 10)\n"
     ]
    }
   ],
   "source": [
    "# couldnt do this in pipeline bcs it deleted rows only in X and not y\n",
    "print(df.shape)\n",
    "df = iqr_removal(df)\n",
    "df = df.loc[df['median_house_value'] < 500001, :]\n",
    "print(df.shape)"
   ],
   "metadata": {
    "collapsed": false,
    "pycharm": {
     "name": "#%%\n"
    }
   }
  },
  {
   "cell_type": "code",
   "execution_count": 13,
   "outputs": [],
   "source": [
    "X_train = df.drop('median_house_value', 1)\n",
    "y_train = df['median_house_value']\n",
    "\n",
    "X_test = pd.read_csv('test_df.csv')\n",
    "y_test = pd.read_csv('test_answers.csv')['median_house_value']\n",
    "\n",
    "outlier_incomes = X_test.loc[~(X_test['median_income'] == 15.0001)]\n",
    "X_test = outlier_incomes\n",
    "y_test = y_test.loc[outlier_incomes.index]"
   ],
   "metadata": {
    "collapsed": false,
    "pycharm": {
     "name": "#%%\n"
    }
   }
  },
  {
   "cell_type": "code",
   "execution_count": 14,
   "outputs": [],
   "source": [
    "pipeline = Pipeline([\n",
    "    ('bedrooms_fillna', FunctionTransformer(total_bedrooms_fillna)),\n",
    "    ('log_trans', FunctionTransformer(log_trans)),\n",
    "    ('feature_add', FunctionTransformer(feature_add)),\n",
    "    ('big_city_dist', FunctionTransformer(big_city_dist)),\n",
    "    ('high_corr_feat_drop', FunctionTransformer(high_corr_feat_drop)),\n",
    "    ('onehot_enc', FunctionTransformer(onehot_enc)),\n",
    "    ('drop_unimportant_feat', FunctionTransformer(drop_unimportant_feat)),\n",
    "    ('standard_scaler', StandardScaler()),\n",
    "    ('R', RandomForestRegressor(random_state=42))\n",
    "])\n"
   ],
   "metadata": {
    "collapsed": false,
    "pycharm": {
     "name": "#%%\n"
    }
   }
  },
  {
   "cell_type": "code",
   "execution_count": 15,
   "outputs": [
    {
     "name": "stdout",
     "output_type": "stream",
     "text": [
      "[0, 1, 2, 3, 4, 5, 6]\n",
      "New:\n",
      "['pc1', 'pc2', 'pc3', 'pc4', 'pc5', 'pc6', 'pc7']\n",
      "X columns:\n",
      "['longitude', 'latitude', 'housing_median_age', 'median_income', 'rooms_per_household', 'bedrooms_per_room', 'population_per_household', 'nearest_big_city_dist', 'pc1', 'pc2', 'pc3', 'pc4', 'pc5', 'pc6', 'pc7']\n"
     ]
    },
    {
     "data": {
      "text/plain": "Pipeline(steps=[('bedrooms_fillna',\n                 FunctionTransformer(func=<function total_bedrooms_fillna at 0x00000242EDBA7550>)),\n                ('log_trans',\n                 FunctionTransformer(func=<function log_trans at 0x00000242F5392550>)),\n                ('feature_add',\n                 FunctionTransformer(func=<function feature_add at 0x00000242F5392D30>)),\n                ('big_city_dist',\n                 FunctionTransformer(func=<function big_city_dist at 0x0000...\n                ('high_corr_feat_drop',\n                 FunctionTransformer(func=<function high_corr_feat_drop at 0x00000242F53D3790>)),\n                ('onehot_enc',\n                 FunctionTransformer(func=<function onehot_enc at 0x00000242EDBDA160>)),\n                ('drop_unimportant_feat',\n                 FunctionTransformer(func=<function drop_unimportant_feat at 0x00000242F5392790>)),\n                ('standard_scaler', StandardScaler()),\n                ('R', RandomForestRegressor(random_state=42))])"
     },
     "execution_count": 15,
     "metadata": {},
     "output_type": "execute_result"
    }
   ],
   "source": [
    "pipeline.fit(X_train, y_train)"
   ],
   "metadata": {
    "collapsed": false,
    "pycharm": {
     "name": "#%%\n"
    }
   }
  },
  {
   "cell_type": "code",
   "execution_count": 16,
   "outputs": [
    {
     "name": "stdout",
     "output_type": "stream",
     "text": [
      "[0, 1, 2, 3, 4, 5, 6]\n",
      "New:\n",
      "['pc1', 'pc2', 'pc3', 'pc4', 'pc5', 'pc6', 'pc7']\n",
      "X columns:\n",
      "['longitude', 'latitude', 'housing_median_age', 'median_income', 'rooms_per_household', 'bedrooms_per_room', 'population_per_household', 'nearest_big_city_dist', 'pc1', 'pc2', 'pc3', 'pc4', 'pc5', 'pc6', 'pc7']\n"
     ]
    },
    {
     "data": {
      "text/plain": "0.7817295324754643"
     },
     "execution_count": 16,
     "metadata": {},
     "output_type": "execute_result"
    }
   ],
   "source": [
    "pipeline.score(X_test, y_test)\n"
   ],
   "metadata": {
    "collapsed": false,
    "pycharm": {
     "name": "#%%\n"
    }
   }
  },
  {
   "cell_type": "code",
   "execution_count": 17,
   "outputs": [],
   "source": [
    "# Feature Importances, results dropped in pipeline:\n",
    "\n",
    "# sns.set(font_scale= 1)\n",
    "# a4_dims = (11.7, 8.27)\n",
    "# fig, ax = plt.subplots(figsize=a4_dims)\n",
    "# \n",
    "# features = ['longitude', 'latitude', 'housing_median_age',\n",
    "#             'median_income', 'rooms_per_household', 'bedrooms_per_room',\n",
    "#             'population_per_household', 'nearest_big_city_dist',\n",
    "#             'pc1', 'pc2', 'pc3', 'pc4', 'pc5', 'pc6', 'pc7']\n",
    "# importances = pipeline['R'].feature_importances_\n",
    "# indices = np.argsort(importances)\n",
    "# \n",
    "# plt.title('Feature Importances')\n",
    "# plt.barh(range(len(indices)), importances[indices], color='b', align='center')\n",
    "# plt.yticks(range(len(indices)), [features[i] for i in indices])\n",
    "# plt.xlabel('Relative Importance')\n",
    "# plt.show()"
   ],
   "metadata": {
    "collapsed": false,
    "pycharm": {
     "name": "#%%\n"
    }
   }
  }
 ],
 "metadata": {
  "kernelspec": {
   "display_name": "Python 3",
   "language": "python",
   "name": "python3"
  },
  "language_info": {
   "codemirror_mode": {
    "name": "ipython",
    "version": 2
   },
   "file_extension": ".py",
   "mimetype": "text/x-python",
   "name": "python",
   "nbconvert_exporter": "python",
   "pygments_lexer": "ipython2",
   "version": "2.7.6"
  }
 },
 "nbformat": 4,
 "nbformat_minor": 0
}